{
  "nbformat": 4,
  "nbformat_minor": 0,
  "metadata": {
    "colab": {
      "name": "gpt-neo gradio.ipynb",
      "provenance": [],
      "collapsed_sections": [],
      "authorship_tag": "ABX9TyM4FaReRdcgmylh2NaVDbVg",
      "include_colab_link": true
    },
    "kernelspec": {
      "name": "python3",
      "display_name": "Python 3"
    },
    "language_info": {
      "name": "python"
    }
  },
  "cells": [
    {
      "cell_type": "markdown",
      "metadata": {
        "id": "view-in-github",
        "colab_type": "text"
      },
      "source": [
        "<a href=\"https://colab.research.google.com/github/ValdazoAmerico/gpt-neo-gradio/blob/main/gpt_neo_gradio.ipynb\" target=\"_parent\"><img src=\"https://colab.research.google.com/assets/colab-badge.svg\" alt=\"Open In Colab\"/></a>"
      ]
    },
    {
      "cell_type": "code",
      "execution_count": 1,
      "metadata": {
        "colab": {
          "base_uri": "https://localhost:8080/"
        },
        "id": "7Lb5pYDeNSN2",
        "outputId": "805ae593-1576-4968-9f82-6af99b3d60b5"
      },
      "outputs": [
        {
          "output_type": "stream",
          "name": "stdout",
          "text": [
            "\u001b[K     |████████████████████████████████| 979 kB 25.3 MB/s \n",
            "\u001b[K     |████████████████████████████████| 2.0 MB 40.7 MB/s \n",
            "\u001b[K     |████████████████████████████████| 206 kB 43.9 MB/s \n",
            "\u001b[K     |████████████████████████████████| 961 kB 33.5 MB/s \n",
            "\u001b[K     |████████████████████████████████| 63 kB 2.2 MB/s \n",
            "\u001b[K     |████████████████████████████████| 3.6 MB 52.3 MB/s \n",
            "\u001b[?25h  Building wheel for ffmpy (setup.py) ... \u001b[?25l\u001b[?25hdone\n",
            "  Building wheel for flask-cachebuster (setup.py) ... \u001b[?25l\u001b[?25hdone\n",
            "\u001b[K     |████████████████████████████████| 572 kB 30.2 MB/s \n",
            "\u001b[K     |████████████████████████████████| 3.1 MB 39.4 MB/s \n",
            "\u001b[K     |████████████████████████████████| 87 kB 5.7 MB/s \n",
            "\u001b[K     |████████████████████████████████| 525 kB 48.9 MB/s \n",
            "\u001b[K     |████████████████████████████████| 829 kB 47.0 MB/s \n",
            "\u001b[K     |████████████████████████████████| 332 kB 49.7 MB/s \n",
            "\u001b[K     |████████████████████████████████| 596 kB 45.7 MB/s \n",
            "\u001b[K     |████████████████████████████████| 132 kB 69.1 MB/s \n",
            "\u001b[K     |████████████████████████████████| 1.1 MB 63.7 MB/s \n",
            "\u001b[K     |████████████████████████████████| 895 kB 40.9 MB/s \n",
            "\u001b[K     |████████████████████████████████| 3.3 MB 48.5 MB/s \n",
            "\u001b[K     |████████████████████████████████| 61 kB 414 kB/s \n",
            "\u001b[K     |████████████████████████████████| 271 kB 74.0 MB/s \n",
            "\u001b[K     |████████████████████████████████| 192 kB 53.9 MB/s \n",
            "\u001b[K     |████████████████████████████████| 160 kB 65.3 MB/s \n",
            "\u001b[?25h  Building wheel for aitextgen (setup.py) ... \u001b[?25l\u001b[?25hdone\n",
            "  Building wheel for fire (setup.py) ... \u001b[?25l\u001b[?25hdone\n",
            "  Building wheel for future (setup.py) ... \u001b[?25l\u001b[?25hdone\n"
          ]
        }
      ],
      "source": [
        "!pip install -q gradio\n",
        "!pip install -q aitextgen"
      ]
    },
    {
      "cell_type": "code",
      "source": [
        "import gradio as gr\n",
        "from aitextgen import aitextgen"
      ],
      "metadata": {
        "id": "kbkT-L4LNTCJ"
      },
      "execution_count": 2,
      "outputs": []
    },
    {
      "cell_type": "code",
      "source": [
        "ai = aitextgen(model=\"EleutherAI/gpt-neo-125M\")"
      ],
      "metadata": {
        "colab": {
          "base_uri": "https://localhost:8080/"
        },
        "id": "RVZPcv7PNgQz",
        "outputId": "5eae412f-da0f-409b-eb93-c1a08da2f0f7"
      },
      "execution_count": 4,
      "outputs": [
        {
          "output_type": "stream",
          "name": "stderr",
          "text": [
            "loading file https://huggingface.co/EleutherAI/gpt-neo-125M/resolve/main/vocab.json from cache at aitextgen/08c00c4159e921d4c941ac75732643373aba509d9b352a82bbbb043a94058d98.a552555fdda56a1c7c9a285bccfd44ac8e4b9e26c8c9b307831b3ea3ac782b45\n",
            "loading file https://huggingface.co/EleutherAI/gpt-neo-125M/resolve/main/merges.txt from cache at aitextgen/12305762709d884a770efe7b0c68a7f4bc918da44e956058d43da0d12f7bea20.5d12962c5ee615a4c803841266e9c3be9a691a924f72d395d3a6c6c81157788b\n",
            "loading file https://huggingface.co/EleutherAI/gpt-neo-125M/resolve/main/tokenizer.json from cache at None\n",
            "loading file https://huggingface.co/EleutherAI/gpt-neo-125M/resolve/main/added_tokens.json from cache at None\n",
            "loading file https://huggingface.co/EleutherAI/gpt-neo-125M/resolve/main/special_tokens_map.json from cache at aitextgen/6c3239a63aaf46ec7625b38abfe41fc2ce0b25f90800aefe6526256340d4ab6d.2b8bf81243d08385c806171bc7ced6d2a0dcc7f896ca637f4e777418f7f0cc3c\n",
            "loading file https://huggingface.co/EleutherAI/gpt-neo-125M/resolve/main/tokenizer_config.json from cache at aitextgen/3cc88b3aa29bb2546db2dc21783292e2a086bb7158c7b5ceddeb24158a85c183.e74f7c3643ee79eb023ead36008be72fe726dada60fa3b2a0569925cfefa1e74\n"
          ]
        }
      ]
    },
    {
      "cell_type": "code",
      "source": [
        "def ai_text(inp):\n",
        "  generated_text = ai.generate_one(max_length = 1000, prompt = inp, no_repeat_ngram_size = 3) #repetition_penalty = 1.9)\n",
        "  #print(type(generated_text))\n",
        "  return generated_text"
      ],
      "metadata": {
        "id": "QF-OIM9fNhcT"
      },
      "execution_count": 5,
      "outputs": []
    },
    {
      "cell_type": "code",
      "source": [
        "ai_text(\"USA is a leading manufacturer in smartphone and that is \")"
      ],
      "metadata": {
        "colab": {
          "base_uri": "https://localhost:8080/",
          "height": 154
        },
        "id": "ANqJAuaXNjhb",
        "outputId": "95c9bebe-902b-4780-833d-b7a68e7bd1be"
      },
      "execution_count": 6,
      "outputs": [
        {
          "output_type": "execute_result",
          "data": {
            "application/vnd.google.colaboratory.intrinsic+json": {
              "type": "string"
            },
            "text/plain": [
              "\"USA is a leading manufacturer in smartphone and that is \\na major focus for the market. The market is not limited to the mobile\\nindustry and we believe the market to be an ever growing one. \\n\\nIf you are interested in the iPhone market, please contact us at\\n(800) 975-7711\\n\\n~~~\\nvinceguidry\\nHi, I'd like to add that the iPhone 5S is the only phone we are working\\nwith that is a phone. Not a phone but a phone that would be a phone for the\\nfuture.\\n\\nI am assuming that you are talking about a phone or a phone with a\\nphone, and that you have an iPhone 5.\\n[https://www.n9.com/products/furniture/the-iphone-5-s-\\npulse...](https://en.wikipedia.org/wiki/The_iphone_5)\\n\\nThere are also phone companies that are working on phones. I would\\nrecommend the iPhone would be great for the iPhone users, but a lot of people\\nwould be interested in it and would be willing to pay.\\n<https://i.imgur.com/>\\n\\n------\\nmrschwartz\\nI would recommend you buy a phone if you want the best performance, and\\na phone that is more than a phone (like the iPhone5S). The iPhone5 has the\\nright amount of bells and whistles.\\nAnd I would recommend the iPhone 4 or newer.\\nBut the iPhone4 is the king. It is a great phone for all of your needs,\\nand it has some great specs. The downside is that the price of the\\niPhone4 is a bit steep. I know that there are people who buy the iPhone\\neven once. But the iPhone is a smartphone. If you want to get the same\\nperformance, the iPhone could be a good phone.\\nThe reason I recommend the 5S iPhone is because the price (in dollars) is\\ngreat. It has great specs and is a pretty great phone. But I think the\\nexperience of the majority of people who are using this phone on a regular\\nbasis is that it doesn't work on the iPhone.\\nI don't have a doubt that the other phone is a superior phone. It's a\\ncompetitive situation. But, if you are a professional that would benefit\\nfrom a phone, then the iPhone has a superior experience.\\nWhat I would suggest for your success is that you choose a phone because\\nit's the right phone for you, and you decide to make a phone you\\nwant to use for your next work.\\nIf your phone is not a good enough phone for your needs then you might\\nwant the iPhone to deliver the same performance you expect.\\nFor that to work, you need to find a phone to replace the phone that\\nyour needs are.\\nThere is a limit on the price range of a phone and I suggest you go\\nthrough the phone's history and learn to negotiate that range.\\nHere are some examples of people that have decided to buy a new phone\\n(though it depends on their needs).\\n\\n\\\\--\\n>\\n> The iPhone 5 has a small, tiny screen. I've never had the iPhone do\\n> a lot more than an iPad. The iPhone has the same tiny screen that I\\n> have. The iPad has the iPad Pro.\\n> But if you're looking for a phone without a screen, you can get a\\n> phone that can do that for you.\\n--\\n\\nA small screen is a small screen. It isn't a huge screen, it is a tiny\\nscreen. The size of a tiny screen is small. The tiny screen size is\\nsmall. We don't use a large screen, but the tiny screen does make\\nbig changes to the screen, so it is smaller.\\nIt isn't very big, but it would be nice to have a small phone, it\\nwould make sense to have the smallest screen.\\nA smaller screen (a small screen) would not make sense. It would allow\\nyou to make smaller changes to your screen without making big changes to\\nthe screen. The larger screen would help you to make bigger changes to a\\nsmall screen. You don't need a larger screen. When you have a phone\\nthat can do all of the things that you will want to do, you don't\\nneed a smaller screen. And you don’t need a small mobile phone. The\\nsmall mobile phone is easier to use, it has less memory, and it is\\nless powerful.\\nTo make a new app, start with a new version of the app that runs on\\na different device. For example, the phone I have looks like this:\\n\\nThe phone I am going\""
            ]
          },
          "metadata": {},
          "execution_count": 6
        }
      ]
    },
    {
      "cell_type": "code",
      "source": [
        "output_text = gr.outputs.Textbox()\n",
        "gr.Interface(ai_text,\"textbox\", output_text, title=\"ai generated Blog with GPT-Neo\",\n",
        "             description=\"AI Generated Blog Content with GPT-Neo - via {aitextgen}\").launch()"
      ],
      "metadata": {
        "colab": {
          "base_uri": "https://localhost:8080/",
          "height": 640
        },
        "id": "Hkljlym3Nk6O",
        "outputId": "39031fe3-1f9d-4c7f-8a90-db641131aa47"
      },
      "execution_count": 7,
      "outputs": [
        {
          "output_type": "stream",
          "name": "stdout",
          "text": [
            "Colab notebook detected. To show errors in colab notebook, set `debug=True` in `launch()`\n",
            "Running on public URL: https://27926.gradio.app\n",
            "\n",
            "This share link will expire in 72 hours. To get longer links, send an email to: support@gradio.app\n"
          ]
        },
        {
          "output_type": "display_data",
          "data": {
            "text/html": [
              "\n",
              "        <iframe\n",
              "            width=\"900\"\n",
              "            height=\"500\"\n",
              "            src=\"https://27926.gradio.app\"\n",
              "            frameborder=\"0\"\n",
              "            allowfullscreen\n",
              "        ></iframe>\n",
              "        "
            ],
            "text/plain": [
              "<IPython.lib.display.IFrame at 0x7f58f5888a50>"
            ]
          },
          "metadata": {}
        },
        {
          "output_type": "execute_result",
          "data": {
            "text/plain": [
              "(<Flask 'gradio.networking'>,\n",
              " 'http://127.0.0.1:7860/',\n",
              " 'https://27926.gradio.app')"
            ]
          },
          "metadata": {},
          "execution_count": 7
        }
      ]
    }
  ]
}